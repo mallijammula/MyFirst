{
  "cells": [
    {
      "cell_type": "markdown",
      "metadata": {
        "id": "agzTeDGb-H8R"
      },
      "source": [
        "# <font color='red'>Implement CNN from scratch</font>"
      ]
    },
    {
      "cell_type": "markdown",
      "metadata": {
        "id": "aoM8HnBz-H8c"
      },
      "source": [
        "### In the following assignment you have to compute the convolutional operations from scratch using Numpy\n",
        "You will then verify the correctness of the your implementation using a \"grader\" function/cell (provided by us) which will match your implmentation.\n",
        "\n",
        "The grader fucntion would help you validate the correctness of your code. \n",
        "\n",
        "Please submit the final Colab notebook in the classroom ONLY after you have verified your code using the grader function/cell.\n",
        "\n",
        "\n",
        "**NOTE: DO NOT change the \"grader\" functions or code snippets written by us.Please add your code in the suggested locations.**\n",
        "\n",
        "Ethics Code:\n",
        "1. You are welcome to read up online resources to implement the code. \n",
        "2. You can also discuss with your classmates on the implmentation over Slack.\n",
        "3. But, the code you write and submit should be yours ONLY. Your code will be compared against other stduents' code and online code snippets to check for plagiarism. If your code is found to be plagiarised, you will be awarded zero-marks for all assignments, which have a 10% weightage in the final marks for this course."
      ]
    },
    {
      "cell_type": "markdown",
      "metadata": {
        "id": "lmSYy6jq-H8d"
      },
      "source": [
        "### Task 1. Calcuate the shape of the output image\n",
        "We use the below formula to calculate the shape of output image after performing the required operations\n",
        "<img src='https://i.imgur.com/BlepuHW.jpg'>"
      ]
    },
    {
      "cell_type": "code",
      "execution_count": null,
      "metadata": {
        "id": "trEM4vFH-H8e"
      },
      "outputs": [],
      "source": [
        "#https://stats.stackexchange.com/questions/351115/convolution-with-a-non-square-kernel\n",
        "#for simplicity we are assuming stride=1\n",
        "import numpy as np\n",
        "def calculate_output_shape(img_size, kernel_size,padding):\n",
        "    #\n",
        "    img_length=img_size[0]\n",
        "    img_width=img_size[1]\n",
        "    kernel_length=kernel_size[0]\n",
        "    kernel_width=kernel_size[1]\n",
        "    #return -1,-1 if the shape of kernel is greater than img_size\n",
        "    if kernel_size > img_size:\n",
        "      return -1,-1\n",
        "    else:\n",
        "      output_length = (img_length + (2*padding) - kernel_length) + 1\n",
        "      output_width = (img_width + (2*padding) - kernel_width) + 1\n",
        "\n",
        "    #use the above formula to calculate output_length and output_width\n",
        "    \n",
        "    return output_length,output_width\n",
        "\n",
        "    \n",
        "    #use the above formula to calculate output_length and output_width\n",
        "    \n",
        "    return output_length,output_width"
      ]
    },
    {
      "cell_type": "code",
      "execution_count": null,
      "metadata": {
        "id": "KbMxKnfU-H8f",
        "outputId": "fe745bee-3334-4886-d76d-c214553b0d07",
        "colab": {
          "base_uri": "https://localhost:8080/"
        }
      },
      "outputs": [
        {
          "output_type": "execute_result",
          "data": {
            "text/plain": [
              "True"
            ]
          },
          "metadata": {},
          "execution_count": 23
        }
      ],
      "source": [
        "def grader_calculate_size(l1,w1,l2,w2,l3,w3):\n",
        "    case_1=(l1==220 and w1==220)\n",
        "    case_2=(l2==-1 and w2==-1)\n",
        "    case_3=(l3==128 and w3==128)\n",
        "    assert(case_1 and case_2 and case_3)\n",
        "    return True\n",
        "l1,w1=calculate_output_shape((224,224), (5,5),0)\n",
        "l2,w2=calculate_output_shape((10,10), (12,12),1)\n",
        "l3,w3=calculate_output_shape((128,128), (3,3),1)\n",
        "grader_calculate_size(l1,w1,l2,w2,l3,w3)"
      ]
    },
    {
      "cell_type": "markdown",
      "metadata": {
        "id": "doQGmtRU-H8g"
      },
      "source": [
        "### Task 2 . Get the padded image\n",
        "In this task we have to add layer of zeros as padding layers in the original image"
      ]
    },
    {
      "cell_type": "code",
      "execution_count": null,
      "metadata": {
        "id": "yAi82VGg-H8g"
      },
      "outputs": [],
      "source": [
        "def get_padded_image(input_img, padding_width):\n",
        "    \n",
        "    #if the padding length is less than or equal to 0 then return the original image\n",
        "    if(padding_width<=0):\n",
        "        return img\n",
        "    \n",
        "    #you can initialize a matrix of all zeros and then copy the image data \n",
        "    else:\n",
        "      shape = input_img.shape\n",
        "      matrix = np.zeros((shape))\n",
        "      matrix = input_img\n",
        "\n",
        "      padding_array  = np.pad(matrix,(padding_width))\n",
        "      #img_with_padding = matrix.shape[0] + 2, matrix.shape[1] + 2\n",
        "\n",
        "      img_with_padding = padding_array\n",
        "\n",
        "    \n",
        "    return img_with_padding"
      ]
    },
    {
      "cell_type": "code",
      "execution_count": null,
      "metadata": {
        "id": "mjXtXbt1-H8g",
        "outputId": "9bcee41c-0209-4b19-ce80-cc811b4a18a9",
        "colab": {
          "base_uri": "https://localhost:8080/"
        }
      },
      "outputs": [
        {
          "output_type": "execute_result",
          "data": {
            "text/plain": [
              "True"
            ]
          },
          "metadata": {},
          "execution_count": 25
        }
      ],
      "source": [
        "def grader_padding(img1,img2):\n",
        "    a1=((img1.shape)==(8,8))\n",
        "    a2=((img2.shape)==(4,4))\n",
        "    assert(a1 and a2)\n",
        "    b1=(img1.sum(axis=1)==[ 0.,  0., 10., 26., 42., 58.,  0.,  0.])\n",
        "    b2=(img1.sum(axis=0)==[ 0, 0, 28, 32, 36, 40,  0,  0])\n",
        "    assert(b1.all() and b2.all())\n",
        "    return True\n",
        "\n",
        "img=np.array([[1,2,3,4],[5,6,7,8],[9,10,11,12],[13,14,15,16]])\n",
        "img1=get_padded_image(img, 2)\n",
        "img2=get_padded_image(img, 0)\n",
        "grader_padding(img1,img2)"
      ]
    },
    {
      "cell_type": "markdown",
      "metadata": {
        "id": "e5cCOr-B-H8h"
      },
      "source": [
        "### Task 3 . Performing convolution\n",
        "In this task we have to add layer of zeros as padding layers in the original image"
      ]
    },
    {
      "cell_type": "code",
      "execution_count": null,
      "metadata": {
        "id": "vjT5MiCR-H8h"
      },
      "outputs": [],
      "source": [
        "def convolve(img, kernel,pad):\n",
        "    #calcualte the size of required image\n",
        "    tgt_size_length,tgt_size_width =  calculate_output_shape((img.shape[0],img.shape[1]),(kernel.shape[0],kernel.shape[1]),pad)\n",
        "    \n",
        "    #initialize the matrix of all zeros\n",
        "    convolved_img = np.zeros(shape=(tgt_size_length, tgt_size_width))\n",
        "    new_img=get_padded_image(img, pad)\n",
        "    # write the code for convolution\n",
        "    # print(new_img)\n",
        "    \n",
        "\n",
        "    k = kernel.shape[0]\n",
        "   \n",
        "    # Iterate over the rows\n",
        "    for x in range(convolved_img.shape[0]):\n",
        "        # Iterate over the columns\n",
        "        for y in range(convolved_img.shape[1]):\n",
        "            # img[i, j] = individual pixel value\n",
        "            # Get the current matrix\n",
        "            matrix = new_img[x:x+k, y:y+k]\n",
        "            #print(matrix.shape)\n",
        "            # Apply the convolution - element-wise multiplication and summation of the result\n",
        "            convolved_img[x,y] = np.sum(np.multiply(matrix, kernel))\n",
        "            \n",
        "\n",
        "    \n",
        "    return convolved_img"
      ]
    },
    {
      "cell_type": "code",
      "execution_count": null,
      "metadata": {
        "id": "qqDCPbl0-H8i",
        "outputId": "fd5077e8-a85e-4042-d2d7-96953ec5d4b0",
        "colab": {
          "base_uri": "https://localhost:8080/"
        }
      },
      "outputs": [
        {
          "output_type": "execute_result",
          "data": {
            "text/plain": [
              "True"
            ]
          },
          "metadata": {},
          "execution_count": 27
        }
      ],
      "source": [
        "def grader_convolve(conv_img):\n",
        "    a1=(conv_img.shape==(5,5))\n",
        "    a2=(conv_img.sum(axis=1)==([10, 26, 42, 58,  0]))\n",
        "    a3=(conv_img.sum(axis=0)==([ 0,28, 32, 36, 40]))\n",
        "    assert(a1 and a2.all() and a3.all())\n",
        "    return True\n",
        "img=np.array([[1,2,3,4],[5,6,7,8],[9,10,11,12],[13,14,15,16]])\n",
        "kernel=np.array([[1,-1],[0,1]])\n",
        "conv_img=convolve(img, kernel,1)\n",
        "grader_convolve(conv_img)"
      ]
    },
    {
      "cell_type": "markdown",
      "metadata": {
        "id": "ZPvOZvPS-H8i"
      },
      "source": [
        "### Task 4: Perform Maxpooling with strides\n"
      ]
    },
    {
      "cell_type": "code",
      "execution_count": null,
      "metadata": {
        "id": "ZprY7ZY0-H8j"
      },
      "outputs": [],
      "source": [
        "def get_maxpools(img, pool_size, stride):\n",
        "    # write your code to get the pooled matrix\n",
        "\n",
        "    # convert img into numpy array\n",
        "    conv_img = np.array(img)\n",
        "    #print(conv_img)\n",
        "    # find subpools\n",
        "    sub_pools = []\n",
        "    for x in np.arange(conv_img.shape[0], step = stride):\n",
        "      for y in np.arange(conv_img.shape[0], step = stride):\n",
        "        matrix = conv_img[x: x+pool_size, y: y+pool_size]\n",
        "        #check for matrix shape and pool shape\n",
        "        if matrix.shape == (pool_size, pool_size):\n",
        "          sub_pools.append(matrix)\n",
        "    #print(np.array(pools))\n",
        "    #total number of pools\n",
        "    num_pools = np.array(sub_pools).shape[0]\n",
        "    final_shape = (int(np.sqrt(num_pools)), int(np.sqrt(num_pools)))\n",
        "   # print(final_shape)\n",
        "    final_pool = []\n",
        "    for pool in np.array(sub_pools):\n",
        "      # find the max value in pool\n",
        "      pool = np.max(pool)\n",
        "      final_pool.append(pool)\n",
        "   # print(final_poled)\n",
        "   #final pooling matrix\n",
        "    pooling_mat = np.array(final_pool).reshape(final_shape)\n",
        "\n",
        "    return (pooling_mat)"
      ]
    },
    {
      "cell_type": "code",
      "execution_count": null,
      "metadata": {
        "id": "k1f1h88t-H8j",
        "outputId": "d5b213fb-6f83-4fbe-c5a4-b8d802cdf4bc",
        "colab": {
          "base_uri": "https://localhost:8080/"
        }
      },
      "outputs": [
        {
          "output_type": "execute_result",
          "data": {
            "text/plain": [
              "True"
            ]
          },
          "metadata": {},
          "execution_count": 30
        }
      ],
      "source": [
        "def pooling_final(pooled_output):\n",
        "    a1=(pooled_output.sum(axis=0)==[30, 33, 36])\n",
        "    a2=(pooled_output.sum(axis=1)==[21, 33, 45])\n",
        "    assert(a1.all() and a2.all())\n",
        "    return True\n",
        "img=np.array([[1,2,3,4],[5,6,7,8],[9,10,11,12],[13,14,15,16]])\n",
        "pool_size=2\n",
        "stride=1\n",
        "pooled_output=(get_maxpools(img, pool_size, stride))\n",
        "pooling_final(pooled_output)"
      ]
    },
    {
      "cell_type": "code",
      "execution_count": null,
      "metadata": {
        "id": "ikhBu1Lq-H8j"
      },
      "outputs": [],
      "source": [
        ""
      ]
    }
  ],
  "metadata": {
    "kernelspec": {
      "display_name": "Python 3",
      "language": "python",
      "name": "python3"
    },
    "language_info": {
      "codemirror_mode": {
        "name": "ipython",
        "version": 3
      },
      "file_extension": ".py",
      "mimetype": "text/x-python",
      "name": "python",
      "nbconvert_exporter": "python",
      "pygments_lexer": "ipython3",
      "version": "3.6.3"
    },
    "colab": {
      "name": "cnn-assignment.ipynb",
      "provenance": []
    }
  },
  "nbformat": 4,
  "nbformat_minor": 0
}